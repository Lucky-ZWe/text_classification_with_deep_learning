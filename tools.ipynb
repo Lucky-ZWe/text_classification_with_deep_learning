{
 "cells": [
  {
   "cell_type": "code",
   "execution_count": 1,
   "metadata": {
    "collapsed": true
   },
   "outputs": [],
   "source": [
    "# coding=utf-8\n",
    "import os\n",
    "import sys\n",
    "import shutil  "
   ]
  },
  {
   "cell_type": "code",
   "execution_count": 2,
   "metadata": {
    "collapsed": true
   },
   "outputs": [],
   "source": [
    "\"\"\" 删除指定目录下目录名称中的含有指定字符串的子目录\"\"\"\n",
    "def delete_dir(path,s):\n",
    "    for root,dirs,files in os.walk(path):\n",
    "        for d in dirs:\n",
    "            if d==s :\n",
    "                print \"delete directory \"+os.path.join(root,d)\n",
    "                shutil.rmtree(os.path.join(root,d))"
   ]
  },
  {
   "cell_type": "code",
   "execution_count": 3,
   "metadata": {},
   "outputs": [
    {
     "name": "stdout",
     "output_type": "stream",
     "text": [
      "delete directory /Users/zhangwei/Documents/paper/data/THUCNews/体育/word_separated\n",
      "delete directory /Users/zhangwei/Documents/paper/data/THUCNews/娱乐/word_separated\n",
      "delete directory /Users/zhangwei/Documents/paper/data/THUCNews/家居/word_separated\n",
      "delete directory /Users/zhangwei/Documents/paper/data/THUCNews/彩票/word_separated\n",
      "delete directory /Users/zhangwei/Documents/paper/data/THUCNews/房产/word_separated\n",
      "delete directory /Users/zhangwei/Documents/paper/data/THUCNews/教育/word_separated\n",
      "delete directory /Users/zhangwei/Documents/paper/data/THUCNews/时尚/word_separated\n",
      "delete directory /Users/zhangwei/Documents/paper/data/THUCNews/时政/word_separated\n",
      "delete directory /Users/zhangwei/Documents/paper/data/THUCNews/星座/word_separated\n",
      "delete directory /Users/zhangwei/Documents/paper/data/THUCNews/游戏/word_separated\n",
      "delete directory /Users/zhangwei/Documents/paper/data/THUCNews/社会/word_separated\n",
      "delete directory /Users/zhangwei/Documents/paper/data/THUCNews/科技/word_separated\n",
      "delete directory /Users/zhangwei/Documents/paper/data/THUCNews/股票/word_separated\n",
      "delete directory /Users/zhangwei/Documents/paper/data/THUCNews/财经/word_separated\n"
     ]
    }
   ],
   "source": [
    "basedir = \"/Users/zhangwei/Documents/paper/data/THUCNews/\"\n",
    "s = \"word_separated\"\n",
    "delete_dir(basedir,s)"
   ]
  },
  {
   "cell_type": "code",
   "execution_count": 8,
   "metadata": {
    "collapsed": true
   },
   "outputs": [],
   "source": [
    "\"\"\"查看csv.zip文件内容\"\"\"\n",
    "import pandas as pd\n",
    "def lookat_csv_zip(filename):\n",
    "    df = pd.read_csv(filename, compression='zip')\n",
    "    columns = df.columns\n",
    "    one_line = [df[x][0] for x in columns]\n",
    "    return columns,one_line\n",
    "    "
   ]
  },
  {
   "cell_type": "code",
   "execution_count": 10,
   "metadata": {},
   "outputs": [
    {
     "data": {
      "text/html": [
       "<div>\n",
       "<style>\n",
       "    .dataframe thead tr:only-child th {\n",
       "        text-align: right;\n",
       "    }\n",
       "\n",
       "    .dataframe thead th {\n",
       "        text-align: left;\n",
       "    }\n",
       "\n",
       "    .dataframe tbody tr th {\n",
       "        vertical-align: top;\n",
       "    }\n",
       "</style>\n",
       "<table border=\"1\" class=\"dataframe\">\n",
       "  <thead>\n",
       "    <tr style=\"text-align: right;\">\n",
       "      <th></th>\n",
       "      <th>type</th>\n",
       "      <th>content</th>\n",
       "    </tr>\n",
       "  </thead>\n",
       "  <tbody>\n",
       "    <tr>\n",
       "      <th>0</th>\n",
       "      <td>互联网</td>\n",
       "      <td>思科 周二 盘后 发布 财年 第三季度 财报 财报 显示 受 股票 期权 开支 收购 相关 ...</td>\n",
       "    </tr>\n",
       "    <tr>\n",
       "      <th>1</th>\n",
       "      <td>互联网</td>\n",
       "      <td>eNet 硅谷动力 国外 媒体报道 一名 德国 数据库安全 工程师 日前 撰文 指出 目前为...</td>\n",
       "    </tr>\n",
       "    <tr>\n",
       "      <th>2</th>\n",
       "      <td>互联网</td>\n",
       "      <td>作者 令狐 达 eNet 硅谷动力 国外 媒体报道 美国 高科技 市场调研 公司 M Met...</td>\n",
       "    </tr>\n",
       "    <tr>\n",
       "      <th>3</th>\n",
       "      <td>互联网</td>\n",
       "      <td>作者 令狐 达 eNet 硅谷动力 台湾 媒体 引述 笔记本 厂商 消息人士 透露 Turi...</td>\n",
       "    </tr>\n",
       "    <tr>\n",
       "      <th>4</th>\n",
       "      <td>互联网</td>\n",
       "      <td>作者 令狐 达 eNet 硅谷动力 台湾 媒体报道 液晶 显示器 大厂 宏基 公司 美国 分...</td>\n",
       "    </tr>\n",
       "  </tbody>\n",
       "</table>\n",
       "</div>"
      ],
      "text/plain": [
       "  type                                            content\n",
       "0  互联网  思科 周二 盘后 发布 财年 第三季度 财报 财报 显示 受 股票 期权 开支 收购 相关 ...\n",
       "1  互联网  eNet 硅谷动力 国外 媒体报道 一名 德国 数据库安全 工程师 日前 撰文 指出 目前为...\n",
       "2  互联网  作者 令狐 达 eNet 硅谷动力 国外 媒体报道 美国 高科技 市场调研 公司 M Met...\n",
       "3  互联网  作者 令狐 达 eNet 硅谷动力 台湾 媒体 引述 笔记本 厂商 消息人士 透露 Turi...\n",
       "4  互联网  作者 令狐 达 eNet 硅谷动力 台湾 媒体报道 液晶 显示器 大厂 宏基 公司 美国 分..."
      ]
     },
     "execution_count": 10,
     "metadata": {},
     "output_type": "execute_result"
    }
   ],
   "source": [
    "filename = \"../../data/sogou_resource/dataset/train.csv.zip\"\n",
    "# cols,line = lookat_csv_zip(filename)\n",
    "# print cols\n",
    "# print line\n",
    "\n",
    "# 调用api\n",
    "df = pd.read_csv(filename, compression='zip')\n",
    "df.head()"
   ]
  },
  {
   "cell_type": "code",
   "execution_count": 4,
   "metadata": {
    "collapsed": true
   },
   "outputs": [],
   "source": [
    "\"\"\"停用词表除重\"\"\"\n",
    "basedir = \"/Users/zhangwei/Documents/paper/data/sogou_resource/dataset/\"\n",
    "original_file = os.path.join(basedir,\"stopwords.txt\")\n",
    "new_file = os.path.join(basedir,\"new_stopwords.txt\")\n",
    "word_list = []\n",
    "with open(original_file) as f:\n",
    "    for line in f.readlines():\n",
    "        line = line.strip()\n",
    "        word_list.append(line)\n",
    "word_list = list(set(word_list))\n",
    "nf = open(new_file,'w')\n",
    "for item in word_list:\n",
    "    nf.write(item+'\\n')\n",
    "nf.close()"
   ]
  },
  {
   "cell_type": "code",
   "execution_count": null,
   "metadata": {
    "collapsed": true
   },
   "outputs": [],
   "source": []
  }
 ],
 "metadata": {
  "kernelspec": {
   "display_name": "Python 2",
   "language": "python",
   "name": "python2"
  },
  "language_info": {
   "codemirror_mode": {
    "name": "ipython",
    "version": 2
   },
   "file_extension": ".py",
   "mimetype": "text/x-python",
   "name": "python",
   "nbconvert_exporter": "python",
   "pygments_lexer": "ipython2",
   "version": "2.7.10"
  }
 },
 "nbformat": 4,
 "nbformat_minor": 2
}
